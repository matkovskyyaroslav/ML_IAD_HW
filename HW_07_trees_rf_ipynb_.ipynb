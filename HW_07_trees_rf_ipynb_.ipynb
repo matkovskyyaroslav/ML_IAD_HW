{
  "cells": [
    {
      "cell_type": "markdown",
      "metadata": {
        "id": "Ea4_4ckDZb9G"
      },
      "source": [
        "# Интеллектуальный анализ данных – весна 2022\n",
        "\n",
        "# Домашнее задание 7: Деревья. Случайный лес\n",
        "\n",
        "Правила:\n",
        "\n",
        "- Домашнее задание оценивается в 10 баллов (+1 бонусный балл).\n",
        "\n",
        "\n",
        "- Можно использовать без доказательства любые результаты, встречавшиеся на лекциях или семинарах по курсу, если получение этих результатов не является вопросом задания.\n",
        "\n",
        "\n",
        "- Можно использовать любые свободные источники с обязательным указанием ссылки на них.\n",
        "\n",
        "\n",
        "- Плагиат не допускается. При обнаружении случаев списывания, 0 за работу выставляется всем участникам нарушения, даже если можно установить, кто у кого списал.\n",
        "\n",
        "<!-- ![](https://github.com/hse-ds/iad-intro-ds/blob/master/2023/homeworks/hw07-trees/meme.jpg?raw=1) -->\n",
        "<img src=\"https://github.com/hse-ds/iad-intro-ds/blob/master/2023/homeworks/hw07-trees/meme.jpg?raw=1\" alt=\"Drawing\" style=\"width: 700px;\"/>"
      ]
    },
    {
      "cell_type": "markdown",
      "metadata": {
        "id": "gjapnf7xZb9O"
      },
      "source": [
        "## Часть 1: Основы построения решающие дерева (1.5 балла)\n",
        "\n",
        "В этой части все расчёты необходимо реализовывать в виде запрограммированных формул, например, на `numpy`. **Нельзя использовать готовые реализации**. Например, если в задании требуется рассчитать энтропию, то требуется в каком-то виде релизовать расчёт по формуле, но нельзя использовать готовую реализацию `some_module.entropy()`."
      ]
    },
    {
      "cell_type": "code",
      "execution_count": 1,
      "metadata": {
        "id": "mNVZzv2BZb9P"
      },
      "outputs": [],
      "source": [
        "import numpy as np\n",
        "import pandas as pd\n",
        "import matplotlib.pyplot as plt\n",
        "import matplotlib.gridspec as gridspec"
      ]
    },
    {
      "cell_type": "markdown",
      "metadata": {
        "id": "_pqsGiLsZb9R"
      },
      "source": [
        "**Задание 1.1 (0.5 балла)** Пусть известно, что в вершину решающего дерева попали 10 объектов, 8 из которых имеют метку класса $k_1$, а 2 имеют метку класса $k_2$. Рассчитайте энтропию такого распределения классов (с натуральным логарифмом). Ответ округлите до двух знаков после запятой."
      ]
    },
    {
      "cell_type": "markdown",
      "source": [
        "**Предварительные рассуждения:** посчитаем доли объектов $p_{k_1}$ и $p_{k_2}$, получим\n",
        "$p_{k_1} = \\dfrac{8}{10}$ и $p_{k_2} = \\dfrac{2}{10}$.\n",
        "\n",
        "Далее посчитаем энтропию по формуле:\n",
        "\n",
        "$H(R) = -\\sum\\limits_{k=1}^{K} p_k * ln(p_k)$"
      ],
      "metadata": {
        "id": "yI4S5g1xbeuA"
      }
    },
    {
      "cell_type": "code",
      "execution_count": 2,
      "metadata": {
        "id": "vQVIdipAZb9R",
        "colab": {
          "base_uri": "https://localhost:8080/"
        },
        "outputId": "1ddd3701-90a7-4f0a-f836-a2114b7a1fa4"
      },
      "outputs": [
        {
          "output_type": "stream",
          "name": "stdout",
          "text": [
            "0.5\n"
          ]
        }
      ],
      "source": [
        "p_k1 = 8/10\n",
        "p_k2 = 2/10\n",
        "\n",
        "H_Rm = -p_k1 * np.log(p_k1) - p_k2 * np.log(p_k2) \n",
        "print(round(H_Rm, 2))"
      ]
    },
    {
      "cell_type": "markdown",
      "metadata": {
        "id": "4fLvZXaEZb9R"
      },
      "source": [
        "**Задание 1.2 (0.5 балла)** Пусть дополнительно известно, что вершина из предыдущего задания не является листовой и возможно такое разбиение, что в левое поддерево попадут все объекты класса $k_1$, а в правое - класса $k_2$. Посчитайте критерий информативности:\n",
        "\n",
        "$$\n",
        "Q(R_m, j, t) = H(R_m) - \\frac{|R_\\ell|}{|R_m|}H(R_\\ell) - \\frac{|R_r|}{|R_m|}H(R_r),\n",
        "$$\n",
        "\n",
        "где $R_m$ - множество объектов в разбиваемой вершине, $j$ - номер признака, по которому происходит разбиение, $t$ - порог разбиения, $R_\\ell$ - множество объектов в левом поддереве, $R_r$ - множество объектов в правом поддереве.\n",
        "\n",
        "Теперь в качестве $H(R)$ будем использовать индекс Джини:\n",
        "\n",
        "$$\n",
        "H(R) = \\sum_{k=1}^J p_k(1-p_k),\n",
        "$$\n",
        "где $J$ – общее количество классов (в нашем случае, $J = 2$).\n",
        "\n",
        "Ответ округлите до двух знаков после запятой."
      ]
    },
    {
      "cell_type": "markdown",
      "source": [
        "**Предварительные рассуждения:** $|R_m| = 10$,  $|R_l| = 8$, $|R_r| = 2$, а индекс Джини для каждого поддерева будет состоять из одного слагаемого, так как там будет содержаться по одному классу (из предположения)."
      ],
      "metadata": {
        "id": "OxXn-1A_dNE2"
      }
    },
    {
      "cell_type": "code",
      "execution_count": 3,
      "metadata": {
        "id": "aV03MdjjZb9S",
        "colab": {
          "base_uri": "https://localhost:8080/"
        },
        "outputId": "65dd0d82-a665-4c91-f8ac-f84636dba5e5"
      },
      "outputs": [
        {
          "output_type": "stream",
          "name": "stdout",
          "text": [
            "0.16\n"
          ]
        }
      ],
      "source": [
        "H_Rm = p_k1 * (1 - p_k1) + p_k2 * (1 - p_k2)\n",
        "H_Rl = p_k1 * (1 - p_k1)\n",
        "H_Rr = p_k2 * (1 - p_k2)\n",
        "R_m = 10\n",
        "R_l = 8\n",
        "R_r = 2\n",
        "Q = H_Rm - R_l / R_m * H_Rl - R_r / R_m * H_Rr\n",
        "print(round(Q, 2))"
      ]
    },
    {
      "cell_type": "markdown",
      "metadata": {
        "id": "oaabPjbSZb9S"
      },
      "source": [
        "**Задание 1.3 (0.5 балла)** Пусть при построении дерева образовалась листовая вершина с 10 объектами, значения целевой переменной для которых следующие: [1, 10, 5, 18, 100, 30, 50, 61, 84, 47] (решается задача регрессии). Чему будут равны предсказания модели для этих объектов?"
      ]
    },
    {
      "cell_type": "markdown",
      "source": [
        "**Ответ:** Если решается задача регрессии, и новый объект попадает в лист с некоторыми уже известными значениями, то за ответ берется *СРЕДНЕЕ* из этих объектов."
      ],
      "metadata": {
        "id": "zaac0W1WfkkJ"
      }
    },
    {
      "cell_type": "code",
      "execution_count": 4,
      "metadata": {
        "id": "UiNXYzZ6Zb9T",
        "colab": {
          "base_uri": "https://localhost:8080/"
        },
        "outputId": "8a0f2223-6ee4-4370-bb6f-52e1eabc6e8d"
      },
      "outputs": [
        {
          "output_type": "execute_result",
          "data": {
            "text/plain": [
              "40.6"
            ]
          },
          "metadata": {},
          "execution_count": 4
        }
      ],
      "source": [
        "leave = [1, 10, 5, 18, 100, 30, 50, 61, 84, 47]\n",
        "pred = np.mean(leave)\n",
        "pred"
      ]
    },
    {
      "cell_type": "markdown",
      "metadata": {
        "id": "V-Np8ntrZb9T"
      },
      "source": [
        "## Часть 2: Решающие деревья (4.5 балла)\n",
        "\n",
        "В этой части мы напишем и протестируем собственную реализацию решающего дерева."
      ]
    },
    {
      "cell_type": "code",
      "execution_count": 5,
      "metadata": {
        "id": "XEvV9AGsZb9V"
      },
      "outputs": [],
      "source": [
        "from collections import Counter\n",
        "from typing import Dict, List, Tuple, Union"
      ]
    },
    {
      "cell_type": "markdown",
      "metadata": {
        "id": "SFuHya7jZb9V"
      },
      "source": [
        "**Задание 2.1 (1.5 балла)** Реализуйте функцию `find_best_split()`, которая должна находить оптимальное разбиение подмножества обучающей выборки в соответствии с информационным критерием из **Задания 1.2**. В качестве меры хаотичности $H(R)$ для задачи регрессии испольуйте дисперсию подвыборки, а для задачи классификации – критерий Джини (определён в том же задании).\n",
        "\n",
        "Для категориальных признаков применяется наивный алгоритм разбиения: мы пытаемся найти одно значение, разбиение по которому сильнее всего увеличит критерий информативности. Иными словами, объекты с конкретным значением признака отправляем в левое поддерево, остальные - в правое. Обратите внимание, что это далеко не оптимальные способ учёта категориальных признаков. Например, можно было бы на каждое значение категориального признака создавать отдельное поддерево или использовать более сложные подходы. Подробнее об этом можно прочитать в конспектах [лекций](https://github.com/esokolov/ml-course-hse/blob/master/2019-fall/lecture-notes/lecture07-trees.pdf) по машинному обучению на ПМИ (раздел «Учёт категориальных признаков»).\n",
        "\n",
        "В качестве подсказок реализации можете пользоваться кодом из бонусной части семинара по решающим деревьям.\n",
        "\n",
        "**Бонус:** Разрешается делать цикл для перебора порогов, но возможна имплементация без него. За имплементацию без цикла – **бонус 1 балл**."
      ]
    },
    {
      "cell_type": "code",
      "execution_count": 6,
      "metadata": {
        "id": "0DYc8Hx1Zb9W"
      },
      "outputs": [],
      "source": [
        "def find_best_split(\n",
        "    feature_vector: Union[np.ndarray, pd.DataFrame], \n",
        "    target_vector: Union[np.ndarray, pd.Series],\n",
        "    task: str = \"classification\",\n",
        "    feature_type: str = \"real\"\n",
        ") -> Tuple[np.ndarray, np.ndarray, float, float]:\n",
        "    \"\"\"\n",
        "    Указания:\n",
        "    * Пороги, приводящие к попаданию в одно из поддеревьев пустого множества объектов, не рассматриваются.\n",
        "    * В качестве порогов, нужно брать среднее двух сосдених (при сортировке) значений признака\n",
        "    * Поведение функции в случае константного признака может быть любым.\n",
        "    * При одинаковых приростах Джини или дисперсии нужно выбирать минимальный сплит.\n",
        "    * За наличие в функции циклов балл будет снижен. Векторизуйте! :)\n",
        "\n",
        "    :param feature_vector: вещественнозначный вектор значений признака\n",
        "    :param target_vector: вектор классов объектов,  len(feature_vector) == len(target_vector)\n",
        "    :param task: либо `classification`, либо `regression`\n",
        "    :param feature_type: либо `real`, либо `categorical`\n",
        "    \n",
        "    :return thresholds: отсортированный по возрастанию вектор со всеми возможными порогами, по которым объекты можно\n",
        "     разделить на две различные подвыборки, или поддерева\n",
        "    :return ginis: вектор со значениями критерия Джини для каждого из порогов в thresholds len(ginis) == len(thresholds)\n",
        "    :return threshold_best: оптимальный порог (число)\n",
        "    :return gini_best: оптимальное значение критерия Джини (число)\n",
        "    \"\"\"\n",
        "    def entr_class(lst):\n",
        "        probs = np.array(list(Counter(lst).values())) / len(lst)\n",
        "        gini = 0\n",
        "        for p in probs:\n",
        "            gini += p * (1 - p)\n",
        "        return gini\n",
        "\n",
        "    def Q_class(R_m, R_l, R_r):\n",
        "        return entr_class(R_m) - len(R_l) / len(R_m) * entr_class(R_l) - len(R_r) / len(R_m) * entr_class(R_r)\n",
        "\n",
        "    def Q_regr(R_m, R_l, R_r):\n",
        "        return np.var(R_m) - len(R_l) / len(R_m) * np.var(R_l) - len(R_r) / len(R_m) * np.var(R_r)\n",
        "    \n",
        "\n",
        "    \n",
        "    thresholds = np.array([])\n",
        "    ginis = np.array([])\n",
        "    threshold_best = 0\n",
        "    gini_best = 0\n",
        "\n",
        "    if task == \"classification\" and feature_type == \"real\":\n",
        "        feature = sorted(feature_vector)\n",
        "        \n",
        "        J = list(set(target_vector)) # Все классы \n",
        "\n",
        "        # Пороги начинаем перебирать с ПЕРВОГО индекса, чтобы не могло получиться пустое поддерево,\n",
        "        # так как хотя бы одно значение будет меньше этого порога.\n",
        "        # С последним порогом тоже все в порядке: мы берем последний и предпоследний, суммируем, делим на 2,\n",
        "        # и тогда будет элемент (значение порога которого последнее), который уйдет в правое поддерево\n",
        "\n",
        "        for i in range(1, len(feature_vector)):\n",
        "            t = (feature[i] + feature[i - 1]) / 2  # Берем средний порог между двумя соседними\n",
        "            thresholds = np.append(thresholds, t)\n",
        "\n",
        "            left_temp = target_vector[feature_vector < t] # Левое поддерево - целевые элементы, признак которых меньше порога\n",
        "            right_temp = target_vector[feature_vector >= t] # Правое поддерево - все остальные целевые элементы\n",
        "            Q = Q_class(target_vector, left_temp, right_temp) # Считаем коэфициент информативности\n",
        "            ginis = np.append(ginis, Q)\n",
        "\n",
        "\n",
        "            if Q > gini_best and len(left_temp) != 0 and len(right_temp) != 0: # Если энтропия меньше текущей, и на всякий случай проверим длины\n",
        "                left = left_temp # Фиксируем левое и правое поддеревья\n",
        "                right_temp = right_temp\n",
        "                gini_best = Q # Меняем значение текущей ошибки\n",
        "                threshold_best = t # Меняем порог\n",
        "\n",
        "\n",
        "    elif task == \"classification\" and feature_type == \"categorical\":\n",
        "        thresholds = feature_vector.copy()\n",
        "        for t in feature_vector:\n",
        "            \n",
        "            left_temp = target_vector[feature_vector == t]\n",
        "            right_temp = target_vector[feature_vector != t]\n",
        "            Q = Q_class(target_vector, left_temp, right_temp)\n",
        "            ginis = np.append(ginis, Q)\n",
        "\n",
        "            if Q > gini_best and len(left_temp) != 0 and len(right_temp) != 0:\n",
        "                gini_best = Q\n",
        "                left = left_temp\n",
        "                right = right_temp\n",
        "                threshold_best = t \n",
        "\n",
        "    \n",
        "    elif task == \"regression\" and feature_type == \"real\":\n",
        "        feature = sorted(feature_vector)\n",
        "\n",
        "        for i in range(1, len(feature_vector)):\n",
        "            t = (feature[i] + feature[i - 1]) / 2  \n",
        "            thresholds = np.append(thresholds, t)\n",
        "            \n",
        "            left_temp = target_vector[feature_vector < t] \n",
        "            right_temp = target_vector[feature_vector >= t]\n",
        "            Q = Q_regr(target_vector, left_temp, right_temp)\n",
        "            ginis = np.append(ginis, Q)\n",
        "\n",
        "\n",
        "            if Q > gini_best and len(left_temp) != 0 and len(right_temp) != 0: \n",
        "                left = left_temp\n",
        "                right_temp = right_temp\n",
        "                gini_best = Q \n",
        "                threshold_best = t \n",
        "    \n",
        "    elif task == \"regression\" and feature_type == \"categorical\":\n",
        "        feature = sorted(feature_vector)\n",
        "\n",
        "        for t in feature_vector:\n",
        "            t = feature[i] \n",
        "            thresholds = np.append(thresholds, t)\n",
        "\n",
        "            left_temp = target_vector[feature_vector == t] \n",
        "            right_temp = target_vector[feature_vector != t] \n",
        "            Q = Q_regr(target_vector, left_temp, right_temp)\n",
        "            ginis = np.append(ginis, Q)\n",
        "\n",
        "\n",
        "            if Q > gini_best and len(left_temp) != 0 and len(right_temp) != 0: \n",
        "                left = left_temp \n",
        "                right_temp = right_temp\n",
        "                gini_best = Q \n",
        "                threshold_best = t     \n",
        "     \n",
        "\n",
        "    return (thresholds, ginis, threshold_best, gini_best)      \n",
        "        \n",
        "        "
      ]
    },
    {
      "cell_type": "markdown",
      "metadata": {
        "id": "uevyNnEBZb9W"
      },
      "source": [
        "Эту функцию можно протестировать на датасете `California`."
      ]
    },
    {
      "cell_type": "code",
      "execution_count": 7,
      "metadata": {
        "id": "oZoRgRL6Zb9X"
      },
      "outputs": [],
      "source": [
        "from sklearn.datasets import fetch_california_housing"
      ]
    },
    {
      "cell_type": "code",
      "execution_count": 8,
      "metadata": {
        "id": "l_6M5PUIZb9X",
        "colab": {
          "base_uri": "https://localhost:8080/",
          "height": 206
        },
        "outputId": "a75b94ea-c2c0-41ee-8ff8-98b2ab2e0339"
      },
      "outputs": [
        {
          "output_type": "execute_result",
          "data": {
            "text/plain": [
              "   MedInc  HouseAge  AveRooms  AveBedrms  Population  AveOccup  Latitude  \\\n",
              "0  8.3252      41.0  6.984127   1.023810       322.0  2.555556     37.88   \n",
              "1  8.3014      21.0  6.238137   0.971880      2401.0  2.109842     37.86   \n",
              "2  7.2574      52.0  8.288136   1.073446       496.0  2.802260     37.85   \n",
              "3  5.6431      52.0  5.817352   1.073059       558.0  2.547945     37.85   \n",
              "4  3.8462      52.0  6.281853   1.081081       565.0  2.181467     37.85   \n",
              "\n",
              "   Longitude  \n",
              "0    -122.23  \n",
              "1    -122.22  \n",
              "2    -122.24  \n",
              "3    -122.25  \n",
              "4    -122.25  "
            ],
            "text/html": [
              "\n",
              "  <div id=\"df-f4a4ff3c-bb4a-45bf-8392-d4ffee3b7360\">\n",
              "    <div class=\"colab-df-container\">\n",
              "      <div>\n",
              "<style scoped>\n",
              "    .dataframe tbody tr th:only-of-type {\n",
              "        vertical-align: middle;\n",
              "    }\n",
              "\n",
              "    .dataframe tbody tr th {\n",
              "        vertical-align: top;\n",
              "    }\n",
              "\n",
              "    .dataframe thead th {\n",
              "        text-align: right;\n",
              "    }\n",
              "</style>\n",
              "<table border=\"1\" class=\"dataframe\">\n",
              "  <thead>\n",
              "    <tr style=\"text-align: right;\">\n",
              "      <th></th>\n",
              "      <th>MedInc</th>\n",
              "      <th>HouseAge</th>\n",
              "      <th>AveRooms</th>\n",
              "      <th>AveBedrms</th>\n",
              "      <th>Population</th>\n",
              "      <th>AveOccup</th>\n",
              "      <th>Latitude</th>\n",
              "      <th>Longitude</th>\n",
              "    </tr>\n",
              "  </thead>\n",
              "  <tbody>\n",
              "    <tr>\n",
              "      <th>0</th>\n",
              "      <td>8.3252</td>\n",
              "      <td>41.0</td>\n",
              "      <td>6.984127</td>\n",
              "      <td>1.023810</td>\n",
              "      <td>322.0</td>\n",
              "      <td>2.555556</td>\n",
              "      <td>37.88</td>\n",
              "      <td>-122.23</td>\n",
              "    </tr>\n",
              "    <tr>\n",
              "      <th>1</th>\n",
              "      <td>8.3014</td>\n",
              "      <td>21.0</td>\n",
              "      <td>6.238137</td>\n",
              "      <td>0.971880</td>\n",
              "      <td>2401.0</td>\n",
              "      <td>2.109842</td>\n",
              "      <td>37.86</td>\n",
              "      <td>-122.22</td>\n",
              "    </tr>\n",
              "    <tr>\n",
              "      <th>2</th>\n",
              "      <td>7.2574</td>\n",
              "      <td>52.0</td>\n",
              "      <td>8.288136</td>\n",
              "      <td>1.073446</td>\n",
              "      <td>496.0</td>\n",
              "      <td>2.802260</td>\n",
              "      <td>37.85</td>\n",
              "      <td>-122.24</td>\n",
              "    </tr>\n",
              "    <tr>\n",
              "      <th>3</th>\n",
              "      <td>5.6431</td>\n",
              "      <td>52.0</td>\n",
              "      <td>5.817352</td>\n",
              "      <td>1.073059</td>\n",
              "      <td>558.0</td>\n",
              "      <td>2.547945</td>\n",
              "      <td>37.85</td>\n",
              "      <td>-122.25</td>\n",
              "    </tr>\n",
              "    <tr>\n",
              "      <th>4</th>\n",
              "      <td>3.8462</td>\n",
              "      <td>52.0</td>\n",
              "      <td>6.281853</td>\n",
              "      <td>1.081081</td>\n",
              "      <td>565.0</td>\n",
              "      <td>2.181467</td>\n",
              "      <td>37.85</td>\n",
              "      <td>-122.25</td>\n",
              "    </tr>\n",
              "  </tbody>\n",
              "</table>\n",
              "</div>\n",
              "      <button class=\"colab-df-convert\" onclick=\"convertToInteractive('df-f4a4ff3c-bb4a-45bf-8392-d4ffee3b7360')\"\n",
              "              title=\"Convert this dataframe to an interactive table.\"\n",
              "              style=\"display:none;\">\n",
              "        \n",
              "  <svg xmlns=\"http://www.w3.org/2000/svg\" height=\"24px\"viewBox=\"0 0 24 24\"\n",
              "       width=\"24px\">\n",
              "    <path d=\"M0 0h24v24H0V0z\" fill=\"none\"/>\n",
              "    <path d=\"M18.56 5.44l.94 2.06.94-2.06 2.06-.94-2.06-.94-.94-2.06-.94 2.06-2.06.94zm-11 1L8.5 8.5l.94-2.06 2.06-.94-2.06-.94L8.5 2.5l-.94 2.06-2.06.94zm10 10l.94 2.06.94-2.06 2.06-.94-2.06-.94-.94-2.06-.94 2.06-2.06.94z\"/><path d=\"M17.41 7.96l-1.37-1.37c-.4-.4-.92-.59-1.43-.59-.52 0-1.04.2-1.43.59L10.3 9.45l-7.72 7.72c-.78.78-.78 2.05 0 2.83L4 21.41c.39.39.9.59 1.41.59.51 0 1.02-.2 1.41-.59l7.78-7.78 2.81-2.81c.8-.78.8-2.07 0-2.86zM5.41 20L4 18.59l7.72-7.72 1.47 1.35L5.41 20z\"/>\n",
              "  </svg>\n",
              "      </button>\n",
              "      \n",
              "  <style>\n",
              "    .colab-df-container {\n",
              "      display:flex;\n",
              "      flex-wrap:wrap;\n",
              "      gap: 12px;\n",
              "    }\n",
              "\n",
              "    .colab-df-convert {\n",
              "      background-color: #E8F0FE;\n",
              "      border: none;\n",
              "      border-radius: 50%;\n",
              "      cursor: pointer;\n",
              "      display: none;\n",
              "      fill: #1967D2;\n",
              "      height: 32px;\n",
              "      padding: 0 0 0 0;\n",
              "      width: 32px;\n",
              "    }\n",
              "\n",
              "    .colab-df-convert:hover {\n",
              "      background-color: #E2EBFA;\n",
              "      box-shadow: 0px 1px 2px rgba(60, 64, 67, 0.3), 0px 1px 3px 1px rgba(60, 64, 67, 0.15);\n",
              "      fill: #174EA6;\n",
              "    }\n",
              "\n",
              "    [theme=dark] .colab-df-convert {\n",
              "      background-color: #3B4455;\n",
              "      fill: #D2E3FC;\n",
              "    }\n",
              "\n",
              "    [theme=dark] .colab-df-convert:hover {\n",
              "      background-color: #434B5C;\n",
              "      box-shadow: 0px 1px 3px 1px rgba(0, 0, 0, 0.15);\n",
              "      filter: drop-shadow(0px 1px 2px rgba(0, 0, 0, 0.3));\n",
              "      fill: #FFFFFF;\n",
              "    }\n",
              "  </style>\n",
              "\n",
              "      <script>\n",
              "        const buttonEl =\n",
              "          document.querySelector('#df-f4a4ff3c-bb4a-45bf-8392-d4ffee3b7360 button.colab-df-convert');\n",
              "        buttonEl.style.display =\n",
              "          google.colab.kernel.accessAllowed ? 'block' : 'none';\n",
              "\n",
              "        async function convertToInteractive(key) {\n",
              "          const element = document.querySelector('#df-f4a4ff3c-bb4a-45bf-8392-d4ffee3b7360');\n",
              "          const dataTable =\n",
              "            await google.colab.kernel.invokeFunction('convertToInteractive',\n",
              "                                                     [key], {});\n",
              "          if (!dataTable) return;\n",
              "\n",
              "          const docLinkHtml = 'Like what you see? Visit the ' +\n",
              "            '<a target=\"_blank\" href=https://colab.research.google.com/notebooks/data_table.ipynb>data table notebook</a>'\n",
              "            + ' to learn more about interactive tables.';\n",
              "          element.innerHTML = '';\n",
              "          dataTable['output_type'] = 'display_data';\n",
              "          await google.colab.output.renderOutput(dataTable, element);\n",
              "          const docLink = document.createElement('div');\n",
              "          docLink.innerHTML = docLinkHtml;\n",
              "          element.appendChild(docLink);\n",
              "        }\n",
              "      </script>\n",
              "    </div>\n",
              "  </div>\n",
              "  "
            ]
          },
          "metadata": {},
          "execution_count": 8
        }
      ],
      "source": [
        "data = fetch_california_housing()\n",
        "X = pd.DataFrame(data=data[\"data\"], columns=data[\"feature_names\"])\n",
        "y = data[\"target\"]\n",
        "X.head()"
      ]
    },
    {
      "cell_type": "code",
      "execution_count": 9,
      "metadata": {
        "id": "O2AAvwmHZb9X",
        "colab": {
          "base_uri": "https://localhost:8080/"
        },
        "outputId": "ff86abd7-77d1-4eec-a6b8-f8af3ef54833"
      },
      "outputs": [
        {
          "output_type": "execute_result",
          "data": {
            "text/plain": [
              "array([4.526, 3.585, 3.521, ..., 0.923, 0.847, 0.894])"
            ]
          },
          "metadata": {},
          "execution_count": 9
        }
      ],
      "source": [
        "y"
      ]
    },
    {
      "cell_type": "markdown",
      "metadata": {
        "id": "l5XRzm9fZb9Y"
      },
      "source": [
        "Выведите график зависимости значения критерия ошибки от порогового значения при разбиении вершины по признаку `MedInc`."
      ]
    },
    {
      "cell_type": "code",
      "execution_count": 10,
      "metadata": {
        "id": "A9y9IqBuZb9Y",
        "colab": {
          "base_uri": "https://localhost:8080/"
        },
        "outputId": "8d088d5b-509f-4927-fff7-7387de3f1a93"
      },
      "outputs": [
        {
          "output_type": "stream",
          "name": "stderr",
          "text": [
            "/usr/local/lib/python3.10/dist-packages/numpy/core/fromnumeric.py:3757: RuntimeWarning: Degrees of freedom <= 0 for slice\n",
            "  return _methods._var(a, axis=axis, dtype=dtype, out=out, ddof=ddof,\n",
            "/usr/local/lib/python3.10/dist-packages/numpy/core/_methods.py:222: RuntimeWarning: invalid value encountered in true_divide\n",
            "  arrmean = um.true_divide(arrmean, div, out=arrmean, casting='unsafe',\n",
            "/usr/local/lib/python3.10/dist-packages/numpy/core/_methods.py:256: RuntimeWarning: invalid value encountered in double_scalars\n",
            "  ret = ret.dtype.type(ret / rcount)\n"
          ]
        }
      ],
      "source": [
        "lst = find_best_split(X['MedInc'], y, \"regression\", 'real')"
      ]
    },
    {
      "cell_type": "markdown",
      "metadata": {
        "id": "lee2kkRrZb9Y"
      },
      "source": [
        "Найдите лучший, с вашей точки зрения, предикат первой вершины решающего дерева."
      ]
    },
    {
      "cell_type": "code",
      "execution_count": 11,
      "metadata": {
        "id": "EMXkFSzTZb9Z",
        "colab": {
          "base_uri": "https://localhost:8080/",
          "height": 447
        },
        "outputId": "d0b6fde7-f34d-4ff6-c581-f58c2171a8f6"
      },
      "outputs": [
        {
          "output_type": "execute_result",
          "data": {
            "text/plain": [
              "<matplotlib.collections.PathCollection at 0x7fb671743f40>"
            ]
          },
          "metadata": {},
          "execution_count": 11
        },
        {
          "output_type": "display_data",
          "data": {
            "text/plain": [
              "<Figure size 640x480 with 1 Axes>"
            ],
            "image/png": "[encoded data removed]"
          },
          "metadata": {}
        }
      ],
      "source": [
        "thresholds = lst[0]\n",
        "ginis = lst[1]\n",
        "threshold_best = lst[2]\n",
        "gini_best = lst[3]\n",
        "plt.plot(thresholds, ginis)\n",
        "plt.scatter(threshold_best, gini_best, color='red')"
      ]
    },
    {
      "cell_type": "markdown",
      "metadata": {
        "id": "9emSzq9VZb9Z"
      },
      "source": [
        "**Задание 2.2 (1 балл)** Разберитесь с написанным кодом решающего дерева, заполните пропуски в коде и реализуйте недостающий метод `_predict_node()`.\n",
        "\n",
        "Построение дерева осуществляется согласно базовому жадному алгоритму, предложенному в лекции в разделе «Построение дерева».\n",
        "- **Выбор лучшего разбиения** необходимо производить по критерию Джини.\n",
        "- **Критерий останова:** все объекты в листе относятся к одному классу или ни по одному признаку нельзя разбить выборку.\n",
        "- **Ответ в листе:** наиболее часто встречающийся класс в листе.\n",
        "\n",
        "В задаче также предлагается получить два бонуса, по баллу на каждый!\n",
        "\n",
        "- **Реализуйте способ обрабатывать пропуски в даннх и реализуйте его, пояснив свои действия.**\n",
        "- **Реализуйте метод оценки важности признаков.**"
      ]
    },
    {
      "cell_type": "code",
      "execution_count": 12,
      "metadata": {
        "id": "1lCIbFTYZb9Z"
      },
      "outputs": [],
      "source": [
        "class DecisionTree:\n",
        "    \n",
        "    def __init__(\n",
        "        self, \n",
        "        feature_types: Union[List[str], np.ndarray], \n",
        "        max_depth: int = None, \n",
        "        min_samples_split: int = None, \n",
        "        min_samples_leaf: int = None,\n",
        "        task: str = \"classification\"\n",
        "    ) -> None:\n",
        "        \n",
        "        if np.any(list(map(lambda x: x != \"real\" and x != \"categorical\", feature_types))):\n",
        "            raise ValueError(\"There is unknown feature type\")\n",
        "\n",
        "        # В этой переменной будем хранить узлы решающего дерева. Каждая вершина хранит в себе идентификатор того,\n",
        "        # является ли она листовой. Листовые вершины хранят значение класса для предсказания, нелистовые - правого и\n",
        "        # левого детей (поддеревья для продолжения процедуры предсказания)\n",
        "        self._tree = {}\n",
        "        \n",
        "        # типы признаков (категориальные или числовые)\n",
        "        self._feature_types = feature_types\n",
        "        \n",
        "        # гиперпараметры дерева\n",
        "        self._max_depth = max_depth\n",
        "        self._min_samples_split = min_samples_split\n",
        "        self._min_samples_leaf = min_samples_leaf\n",
        "        self.task = task\n",
        "        \n",
        "        # Переменная, если вы решите делать бонус\n",
        "        self._feature_importances = {}\n",
        "        \n",
        "\n",
        "    def _fit_node(\n",
        "        self, \n",
        "        sub_X: np.ndarray, \n",
        "        sub_y: np.ndarray, \n",
        "        node: dict\n",
        "    ) -> None:\n",
        "        \n",
        "        # критерий останова\n",
        "        if np.all(sub_y == sub_y[0]):\n",
        "            node[\"type\"] = \"terminal\"\n",
        "            node[\"class\"] = sub_y[0]\n",
        "            return\n",
        "\n",
        "        feature_best, threshold_best, gini_best, split = None, None, None, None\n",
        "        for feature in range(sub_X.shape[1]):\n",
        "            feature_type = self._feature_types[feature]\n",
        "            categories_map = {}\n",
        "\n",
        "            # подготавливаем признак для поиска оптимального порога\n",
        "            if feature_type == \"real\":\n",
        "                feature_vector = sub_X[:, feature]\n",
        "            elif feature_type == \"categorical\":\n",
        "                # здесь могла быть реализация более сложного подхода к обработке категориального признака\n",
        "                feature_vector = sub_X[:, feature]\n",
        "\n",
        "            # ищем оптимальный порог\n",
        "            _, _, threshold, gini = find_best_split(feature_vector, sub_y, self.task, feature_type)\n",
        "            \n",
        "            if gini_best is None or gini > gini_best:\n",
        "                feature_best = feature\n",
        "                gini_best = gini\n",
        "\n",
        "                # split - маска на объекты, которые должны попасть в левое поддерево\n",
        "                if feature_type == \"real\":\n",
        "                    threshold_best = threshold\n",
        "                    split = (feature_vector > threshold_best)\n",
        "                elif feature_type == \"categorical\":\n",
        "                    # в данной реализации это просто значение категории\n",
        "                    threshold_best = threshold\n",
        "                    split = (feature_vector == threshold_best) \n",
        "                else:\n",
        "                    raise ValueError\n",
        "\n",
        "        # записываем полученные сплиты в атрибуты класса\n",
        "        if feature_best is None:\n",
        "            node[\"type\"] = \"terminal\"\n",
        "            node[\"class\"] = Counter(sub_y).most_common(1)[0][0]\n",
        "            return\n",
        "\n",
        "        node[\"type\"] = \"nonterminal\"\n",
        "\n",
        "        node[\"feature_split\"] = feature_best\n",
        "        if self._feature_types[feature_best] == \"real\":\n",
        "            node[\"threshold\"] = threshold_best\n",
        "        elif self._feature_types[feature_best] == \"categorical\":\n",
        "            node[\"category_split\"] = threshold_best\n",
        "        else:\n",
        "            raise ValueError\n",
        "            \n",
        "        node[\"left_child\"], node[\"right_child\"] = {}, {}\n",
        "        self._fit_node(sub_X[split], sub_y[split], node[\"left_child\"])\n",
        "        self._fit_node(sub_X[np.logical_not(split)], sub_y[np.logical_not(split)], node[\"right_child\"])\n",
        "\n",
        "    def _predict_node(self, x: np.ndarray, node: dict) -> int:\n",
        "        \"\"\"\n",
        "        Предсказание начинается с корневой вершины дерева и рекурсивно идёт в левое или правое поддерево в зависимости от значения\n",
        "        предиката на объекте. Листовая вершина возвращает предсказание.\n",
        "        :param x: np.array, элемент выборки\n",
        "        :param node: dict, вершина дерева\n",
        "        \"\"\"\n",
        "        if node['type'] == 'terminal':\n",
        "          return node['class']\n",
        "\n",
        "        elif self._feature_types[node[\"feature_split\"]] == 'real':\n",
        "          if x[node[\"feature_split\"]] < node[\"threshold\"]:\n",
        "            return self._predict_node(x, node[\"left_child\"])\n",
        "          else:\n",
        "            return self._predict_node(x, node[\"right_child\"])\n",
        "\n",
        "        elif self._feature_types[node[\"feature_split\"]] == 'categorical':\n",
        "          if x[node[\"feature_split\"]] == node[\"category_split\"]:\n",
        "            return self._predict_node(x, node[\"left_child\"])\n",
        "          else:\n",
        "            return self._predict_node(x, node[\"right_child\"])\n",
        "        \n",
        "\n",
        "    def fit(self, X: np.ndarray, y: np.ndarray) -> None:\n",
        "        self._fit_node(X, y, self._tree)\n",
        "\n",
        "    def predict(self, X: np.ndarray) -> np.ndarray:\n",
        "        predicted = []\n",
        "        for x in X:\n",
        "            predicted.append(self._predict_node(x, self._tree))\n",
        "            \n",
        "        return np.array(predicted)"
      ]
    },
    {
      "cell_type": "markdown",
      "metadata": {
        "id": "G3tyB7iwZb9a"
      },
      "source": [
        "**Задание 2.3 (1 балл)** Загрузите таблицу `students.csv` (это немного преобразованный датасет [User Knowledge](https://archive.ics.uci.edu/ml/datasets/User+Knowledge+Modeling)). В ней признаки объекта записаны в первых пяти столбцах, а в последнем записана целевая переменная (класс: 0 или 1). Постройте на одном изображении пять кривых \"порог — значение критерия Джини\" для всех пяти признаков. Отдельно визуализируйте диаграммы рассеяния \"значение признака — класс\" для всех пяти признаков."
      ]
    },
    {
      "cell_type": "code",
      "execution_count": 14,
      "metadata": {
        "id": "O5K4hGGHZb9a",
        "colab": {
          "base_uri": "https://localhost:8080/",
          "height": 327
        },
        "outputId": "d9820efb-26c0-4ea7-f3f0-6d2303663f76"
      },
      "outputs": [
        {
          "output_type": "stream",
          "name": "stdout",
          "text": [
            "STG    0\n",
            "SCG    0\n",
            "STR    0\n",
            "LPR    0\n",
            "PEG    0\n",
            "UNS    0\n",
            "dtype: int64\n"
          ]
        },
        {
          "output_type": "execute_result",
          "data": {
            "text/plain": [
              "    STG   SCG   STR   LPR   PEG  UNS\n",
              "0  0.00  0.00  0.00  0.00  0.00    0\n",
              "1  0.08  0.08  0.10  0.24  0.90    1\n",
              "2  0.06  0.06  0.05  0.25  0.33    0\n",
              "3  0.10  0.10  0.15  0.65  0.30    1\n",
              "4  0.08  0.08  0.08  0.98  0.24    0"
            ],
            "text/html": [
              "\n",
              "  <div id=\"df-f18fcd20-f260-4d24-889e-6bbb1ff7a5b2\">\n",
              "    <div class=\"colab-df-container\">\n",
              "      <div>\n",
              "<style scoped>\n",
              "    .dataframe tbody tr th:only-of-type {\n",
              "        vertical-align: middle;\n",
              "    }\n",
              "\n",
              "    .dataframe tbody tr th {\n",
              "        vertical-align: top;\n",
              "    }\n",
              "\n",
              "    .dataframe thead th {\n",
              "        text-align: right;\n",
              "    }\n",
              "</style>\n",
              "<table border=\"1\" class=\"dataframe\">\n",
              "  <thead>\n",
              "    <tr style=\"text-align: right;\">\n",
              "      <th></th>\n",
              "      <th>STG</th>\n",
              "      <th>SCG</th>\n",
              "      <th>STR</th>\n",
              "      <th>LPR</th>\n",
              "      <th>PEG</th>\n",
              "      <th>UNS</th>\n",
              "    </tr>\n",
              "  </thead>\n",
              "  <tbody>\n",
              "    <tr>\n",
              "      <th>0</th>\n",
              "      <td>0.00</td>\n",
              "      <td>0.00</td>\n",
              "      <td>0.00</td>\n",
              "      <td>0.00</td>\n",
              "      <td>0.00</td>\n",
              "      <td>0</td>\n",
              "    </tr>\n",
              "    <tr>\n",
              "      <th>1</th>\n",
              "      <td>0.08</td>\n",
              "      <td>0.08</td>\n",
              "      <td>0.10</td>\n",
              "      <td>0.24</td>\n",
              "      <td>0.90</td>\n",
              "      <td>1</td>\n",
              "    </tr>\n",
              "    <tr>\n",
              "      <th>2</th>\n",
              "      <td>0.06</td>\n",
              "      <td>0.06</td>\n",
              "      <td>0.05</td>\n",
              "      <td>0.25</td>\n",
              "      <td>0.33</td>\n",
              "      <td>0</td>\n",
              "    </tr>\n",
              "    <tr>\n",
              "      <th>3</th>\n",
              "      <td>0.10</td>\n",
              "      <td>0.10</td>\n",
              "      <td>0.15</td>\n",
              "      <td>0.65</td>\n",
              "      <td>0.30</td>\n",
              "      <td>1</td>\n",
              "    </tr>\n",
              "    <tr>\n",
              "      <th>4</th>\n",
              "      <td>0.08</td>\n",
              "      <td>0.08</td>\n",
              "      <td>0.08</td>\n",
              "      <td>0.98</td>\n",
              "      <td>0.24</td>\n",
              "      <td>0</td>\n",
              "    </tr>\n",
              "  </tbody>\n",
              "</table>\n",
              "</div>\n",
              "      <button class=\"colab-df-convert\" onclick=\"convertToInteractive('df-f18fcd20-f260-4d24-889e-6bbb1ff7a5b2')\"\n",
              "              title=\"Convert this dataframe to an interactive table.\"\n",
              "              style=\"display:none;\">\n",
              "        \n",
              "  <svg xmlns=\"http://www.w3.org/2000/svg\" height=\"24px\"viewBox=\"0 0 24 24\"\n",
              "       width=\"24px\">\n",
              "    <path d=\"M0 0h24v24H0V0z\" fill=\"none\"/>\n",
              "    <path d=\"M18.56 5.44l.94 2.06.94-2.06 2.06-.94-2.06-.94-.94-2.06-.94 2.06-2.06.94zm-11 1L8.5 8.5l.94-2.06 2.06-.94-2.06-.94L8.5 2.5l-.94 2.06-2.06.94zm10 10l.94 2.06.94-2.06 2.06-.94-2.06-.94-.94-2.06-.94 2.06-2.06.94z\"/><path d=\"M17.41 7.96l-1.37-1.37c-.4-.4-.92-.59-1.43-.59-.52 0-1.04.2-1.43.59L10.3 9.45l-7.72 7.72c-.78.78-.78 2.05 0 2.83L4 21.41c.39.39.9.59 1.41.59.51 0 1.02-.2 1.41-.59l7.78-7.78 2.81-2.81c.8-.78.8-2.07 0-2.86zM5.41 20L4 18.59l7.72-7.72 1.47 1.35L5.41 20z\"/>\n",
              "  </svg>\n",
              "      </button>\n",
              "      \n",
              "  <style>\n",
              "    .colab-df-container {\n",
              "      display:flex;\n",
              "      flex-wrap:wrap;\n",
              "      gap: 12px;\n",
              "    }\n",
              "\n",
              "    .colab-df-convert {\n",
              "      background-color: #E8F0FE;\n",
              "      border: none;\n",
              "      border-radius: 50%;\n",
              "      cursor: pointer;\n",
              "      display: none;\n",
              "      fill: #1967D2;\n",
              "      height: 32px;\n",
              "      padding: 0 0 0 0;\n",
              "      width: 32px;\n",
              "    }\n",
              "\n",
              "    .colab-df-convert:hover {\n",
              "      background-color: #E2EBFA;\n",
              "      box-shadow: 0px 1px 2px rgba(60, 64, 67, 0.3), 0px 1px 3px 1px rgba(60, 64, 67, 0.15);\n",
              "      fill: #174EA6;\n",
              "    }\n",
              "\n",
              "    [theme=dark] .colab-df-convert {\n",
              "      background-color: #3B4455;\n",
              "      fill: #D2E3FC;\n",
              "    }\n",
              "\n",
              "    [theme=dark] .colab-df-convert:hover {\n",
              "      background-color: #434B5C;\n",
              "      box-shadow: 0px 1px 3px 1px rgba(0, 0, 0, 0.15);\n",
              "      filter: drop-shadow(0px 1px 2px rgba(0, 0, 0, 0.3));\n",
              "      fill: #FFFFFF;\n",
              "    }\n",
              "  </style>\n",
              "\n",
              "      <script>\n",
              "        const buttonEl =\n",
              "          document.querySelector('#df-f18fcd20-f260-4d24-889e-6bbb1ff7a5b2 button.colab-df-convert');\n",
              "        buttonEl.style.display =\n",
              "          google.colab.kernel.accessAllowed ? 'block' : 'none';\n",
              "\n",
              "        async function convertToInteractive(key) {\n",
              "          const element = document.querySelector('#df-f18fcd20-f260-4d24-889e-6bbb1ff7a5b2');\n",
              "          const dataTable =\n",
              "            await google.colab.kernel.invokeFunction('convertToInteractive',\n",
              "                                                     [key], {});\n",
              "          if (!dataTable) return;\n",
              "\n",
              "          const docLinkHtml = 'Like what you see? Visit the ' +\n",
              "            '<a target=\"_blank\" href=https://colab.research.google.com/notebooks/data_table.ipynb>data table notebook</a>'\n",
              "            + ' to learn more about interactive tables.';\n",
              "          element.innerHTML = '';\n",
              "          dataTable['output_type'] = 'display_data';\n",
              "          await google.colab.output.renderOutput(dataTable, element);\n",
              "          const docLink = document.createElement('div');\n",
              "          docLink.innerHTML = docLinkHtml;\n",
              "          element.appendChild(docLink);\n",
              "        }\n",
              "      </script>\n",
              "    </div>\n",
              "  </div>\n",
              "  "
            ]
          },
          "metadata": {},
          "execution_count": 14
        }
      ],
      "source": [
        "students = pd.read_csv('students.csv')\n",
        "students = students[students.columns.drop('Unnamed: 0')]\n",
        "y = students['UNS']\n",
        "print(students.isna().sum())\n",
        "students.head()"
      ]
    },
    {
      "cell_type": "code",
      "source": [
        "threshold_stg = find_best_split(students['STG'], y, \"classification\", 'real')[0]\n",
        "gini_stg = find_best_split(students['STG'], y, \"classification\", 'real')[1]\n",
        "\n",
        "threshold_scg = find_best_split(students['SCG'], y, \"classification\", 'real')[0]\n",
        "gini_scg = find_best_split(students['SCG'], y, \"classification\", 'real')[1]\n",
        "\n",
        "threshold_str = find_best_split(students['STR'], y, \"classification\", 'real')[0]\n",
        "gini_str = find_best_split(students['STR'], y, \"classification\", 'real')[1]\n",
        "\n",
        "threshold_lpr = find_best_split(students['LPR'], y, \"classification\", 'real')[0]\n",
        "gini_lpr = find_best_split(students['LPR'], y, \"classification\", 'real')[1]\n",
        "\n",
        "threshold_peg = find_best_split(students['PEG'], y, \"classification\", 'real')[0]\n",
        "gini_peg = find_best_split(students['PEG'], y, \"classification\", 'real')[1]\n",
        "\n",
        "plt.plot(threshold_stg, gini_stg)\n",
        "plt.plot(threshold_scg, gini_scg)\n",
        "plt.plot(threshold_str, gini_str)\n",
        "plt.plot(threshold_lpr, gini_lpr)\n",
        "plt.plot(threshold_peg, gini_peg)\n",
        "plt.legend(['STG', 'SCG', 'STR', 'LPR', 'PEG']);\n",
        "plt.xlabel('thresholds');\n",
        "plt.ylabel('ginis');"
      ],
      "metadata": {
        "colab": {
          "base_uri": "https://localhost:8080/",
          "height": 449
        },
        "id": "Ynp8kDm5fYaN",
        "outputId": "488317c1-c1f7-4513-c50e-43df12efb7fd"
      },
      "execution_count": 15,
      "outputs": [
        {
          "output_type": "display_data",
          "data": {
            "text/plain": [
              "<Figure size 640x480 with 1 Axes>"
            ],
            "image/png": "[encoded data removed]"
          },
          "metadata": {}
        }
      ]
    },
    {
      "cell_type": "code",
      "source": [
        "gs = gridspec.GridSpec(5, 1)\n",
        "fig = plt.figure(figsize=(18, 12))\n",
        "labels = ['STG', 'SCG', 'STR', 'LPR', 'PEG']\n",
        "colors = ['r', 'b', 'y', 'g', 'orange']\n",
        "lst = [students['STG'], students['SCG'], students['STR'], students['LPR'], students['PEG']]\n",
        "for val, n, col, grd in zip(lst,\n",
        "                         labels,\n",
        "                         colors,\n",
        "                         [[x,y] for x in [0, 1, 2, 3, 4] for y in [0]]):\n",
        "    ax = plt.subplot(gs[grd[0], grd[1]])\n",
        "    fig = plt.scatter(val, y, color=col)\n",
        "    plt.tight_layout()\n",
        "    plt.xlabel('Values')\n",
        "    plt.ylabel('Class')\n",
        "    plt.title(n)"
      ],
      "metadata": {
        "colab": {
          "base_uri": "https://localhost:8080/",
          "height": 767
        },
        "id": "QfuKLFO0poMO",
        "outputId": "5fe6279a-fcbc-4218-b97e-8573e87c3b59"
      },
      "execution_count": 18,
      "outputs": [
        {
          "output_type": "display_data",
          "data": {
            "text/plain": [
              "<Figure size 1800x1200 with 5 Axes>"
            ],
            "image/png": "[encoded data removed]"
          },
          "metadata": {}
        }
      ]
    },
    {
      "cell_type": "markdown",
      "metadata": {
        "id": "vERmmX6_Zb9b"
      },
      "source": [
        "Исходя из кривых значений критерия Джини, по какому признаку нужно производить деление выборки на два поддерева? Согласуется ли этот результат с визуальной оценкой диаграмм рассеяиния? Как бы охарактеризовали вид кривой для \"хороших\" признаков, по которым выборка делится почти идеально? Чем отличаются кривые для признаков, по которым деление практически невозможно?"
      ]
    },
    {
      "cell_type": "markdown",
      "source": [
        "**ОТВЕТ:** Исходя из графика с критерием Джини, делить надо по признаку PEG, поскольку по нему достигается максимальное значение критерия Джини, а по остальным этот критерий находится в окрестности нуля.\n",
        "Далее, да, это сочетается с таблицами рассеяния, только в графике PEG можно провести вертикальную прямую порога, и очень хорошо разделить объекты на два класса, чего нельзя сказать про другие признаки, там где прямую не ставь, будет много объектов разных классов слева и справа.\n",
        "Я бы охарактеризовал вид кривой для 'хороших' признаков выпуклой вверх кривой, то есть которая имеет максимум критерия джини."
      ],
      "metadata": {
        "id": "ktMEd7bysGOM"
      }
    },
    {
      "cell_type": "markdown",
      "metadata": {
        "id": "YychOBgiZb9b"
      },
      "source": [
        "**Задание 2.4 (1 балл)** Протестируйте свое решающее дерево на датасете [mushrooms](https://archive.ics.uci.edu/ml/datasets/Mushroom). \n",
        "\n",
        "1. Скачайте таблицу `agaricus-lepiota.data` (из [Data Folder](https://archive.ics.uci.edu/ml/machine-learning-databases/mushroom/)), \n",
        "2. Считайте таблицу при помощи `pandas`,\n",
        "3. Примените к каждому столбцу `LabelEncoder` (из `sklearn`), чтобы преобразовать строковые имена категорий в натуральные числа. \n",
        "\n",
        "Первый столбец — это целевая переменная (e — edible, p — poisonous) Мы будем измерять качество с помощью accuracy, так что нам не очень важно, что будет классом 1, а что — классом 0. Обучите решающее дерево на половине случайно выбранных объектов (признаки в датасете категориальные) и сделайте предсказания для оставшейся половины. Вычислите accuracy."
      ]
    },
    {
      "cell_type": "code",
      "source": [
        "from sklearn.preprocessing import LabelEncoder\n",
        "from sklearn.model_selection import train_test_split\n",
        "from sklearn.metrics import accuracy_score"
      ],
      "metadata": {
        "id": "wAgD3hQR69p0"
      },
      "execution_count": 24,
      "outputs": []
    },
    {
      "cell_type": "code",
      "execution_count": 22,
      "metadata": {
        "id": "dVMXW13NZb9c",
        "colab": {
          "base_uri": "https://localhost:8080/",
          "height": 235
        },
        "outputId": "ec61f137-9740-4dd6-a5ad-3d27b61ebf2c"
      },
      "outputs": [
        {
          "output_type": "execute_result",
          "data": {
            "text/plain": [
              "   p  x  s  n  t p.1  f  c n.1  k  ... s.2  w w.1 p.2 w.2  o p.3 k.1 s.3  u\n",
              "0  e  x  s  y  t   a  f  c   b  k  ...   s  w   w   p   w  o   p   n   n  g\n",
              "1  e  b  s  w  t   l  f  c   b  n  ...   s  w   w   p   w  o   p   n   n  m\n",
              "2  p  x  y  w  t   p  f  c   n  n  ...   s  w   w   p   w  o   p   k   s  u\n",
              "3  e  x  s  g  f   n  f  w   b  k  ...   s  w   w   p   w  o   e   n   a  g\n",
              "4  e  x  y  y  t   a  f  c   b  n  ...   s  w   w   p   w  o   p   k   n  g\n",
              "\n",
              "[5 rows x 23 columns]"
            ],
            "text/html": [
              "\n",
              "  <div id=\"df-842de4f2-7bef-4ff1-8d98-496f0deccc6d\">\n",
              "    <div class=\"colab-df-container\">\n",
              "      <div>\n",
              "<style scoped>\n",
              "    .dataframe tbody tr th:only-of-type {\n",
              "        vertical-align: middle;\n",
              "    }\n",
              "\n",
              "    .dataframe tbody tr th {\n",
              "        vertical-align: top;\n",
              "    }\n",
              "\n",
              "    .dataframe thead th {\n",
              "        text-align: right;\n",
              "    }\n",
              "</style>\n",
              "<table border=\"1\" class=\"dataframe\">\n",
              "  <thead>\n",
              "    <tr style=\"text-align: right;\">\n",
              "      <th></th>\n",
              "      <th>p</th>\n",
              "      <th>x</th>\n",
              "      <th>s</th>\n",
              "      <th>n</th>\n",
              "      <th>t</th>\n",
              "      <th>p.1</th>\n",
              "      <th>f</th>\n",
              "      <th>c</th>\n",
              "      <th>n.1</th>\n",
              "      <th>k</th>\n",
              "      <th>...</th>\n",
              "      <th>s.2</th>\n",
              "      <th>w</th>\n",
              "      <th>w.1</th>\n",
              "      <th>p.2</th>\n",
              "      <th>w.2</th>\n",
              "      <th>o</th>\n",
              "      <th>p.3</th>\n",
              "      <th>k.1</th>\n",
              "      <th>s.3</th>\n",
              "      <th>u</th>\n",
              "    </tr>\n",
              "  </thead>\n",
              "  <tbody>\n",
              "    <tr>\n",
              "      <th>0</th>\n",
              "      <td>e</td>\n",
              "      <td>x</td>\n",
              "      <td>s</td>\n",
              "      <td>y</td>\n",
              "      <td>t</td>\n",
              "      <td>a</td>\n",
              "      <td>f</td>\n",
              "      <td>c</td>\n",
              "      <td>b</td>\n",
              "      <td>k</td>\n",
              "      <td>...</td>\n",
              "      <td>s</td>\n",
              "      <td>w</td>\n",
              "      <td>w</td>\n",
              "      <td>p</td>\n",
              "      <td>w</td>\n",
              "      <td>o</td>\n",
              "      <td>p</td>\n",
              "      <td>n</td>\n",
              "      <td>n</td>\n",
              "      <td>g</td>\n",
              "    </tr>\n",
              "    <tr>\n",
              "      <th>1</th>\n",
              "      <td>e</td>\n",
              "      <td>b</td>\n",
              "      <td>s</td>\n",
              "      <td>w</td>\n",
              "      <td>t</td>\n",
              "      <td>l</td>\n",
              "      <td>f</td>\n",
              "      <td>c</td>\n",
              "      <td>b</td>\n",
              "      <td>n</td>\n",
              "      <td>...</td>\n",
              "      <td>s</td>\n",
              "      <td>w</td>\n",
              "      <td>w</td>\n",
              "      <td>p</td>\n",
              "      <td>w</td>\n",
              "      <td>o</td>\n",
              "      <td>p</td>\n",
              "      <td>n</td>\n",
              "      <td>n</td>\n",
              "      <td>m</td>\n",
              "    </tr>\n",
              "    <tr>\n",
              "      <th>2</th>\n",
              "      <td>p</td>\n",
              "      <td>x</td>\n",
              "      <td>y</td>\n",
              "      <td>w</td>\n",
              "      <td>t</td>\n",
              "      <td>p</td>\n",
              "      <td>f</td>\n",
              "      <td>c</td>\n",
              "      <td>n</td>\n",
              "      <td>n</td>\n",
              "      <td>...</td>\n",
              "      <td>s</td>\n",
              "      <td>w</td>\n",
              "      <td>w</td>\n",
              "      <td>p</td>\n",
              "      <td>w</td>\n",
              "      <td>o</td>\n",
              "      <td>p</td>\n",
              "      <td>k</td>\n",
              "      <td>s</td>\n",
              "      <td>u</td>\n",
              "    </tr>\n",
              "    <tr>\n",
              "      <th>3</th>\n",
              "      <td>e</td>\n",
              "      <td>x</td>\n",
              "      <td>s</td>\n",
              "      <td>g</td>\n",
              "      <td>f</td>\n",
              "      <td>n</td>\n",
              "      <td>f</td>\n",
              "      <td>w</td>\n",
              "      <td>b</td>\n",
              "      <td>k</td>\n",
              "      <td>...</td>\n",
              "      <td>s</td>\n",
              "      <td>w</td>\n",
              "      <td>w</td>\n",
              "      <td>p</td>\n",
              "      <td>w</td>\n",
              "      <td>o</td>\n",
              "      <td>e</td>\n",
              "      <td>n</td>\n",
              "      <td>a</td>\n",
              "      <td>g</td>\n",
              "    </tr>\n",
              "    <tr>\n",
              "      <th>4</th>\n",
              "      <td>e</td>\n",
              "      <td>x</td>\n",
              "      <td>y</td>\n",
              "      <td>y</td>\n",
              "      <td>t</td>\n",
              "      <td>a</td>\n",
              "      <td>f</td>\n",
              "      <td>c</td>\n",
              "      <td>b</td>\n",
              "      <td>n</td>\n",
              "      <td>...</td>\n",
              "      <td>s</td>\n",
              "      <td>w</td>\n",
              "      <td>w</td>\n",
              "      <td>p</td>\n",
              "      <td>w</td>\n",
              "      <td>o</td>\n",
              "      <td>p</td>\n",
              "      <td>k</td>\n",
              "      <td>n</td>\n",
              "      <td>g</td>\n",
              "    </tr>\n",
              "  </tbody>\n",
              "</table>\n",
              "<p>5 rows × 23 columns</p>\n",
              "</div>\n",
              "      <button class=\"colab-df-convert\" onclick=\"convertToInteractive('df-842de4f2-7bef-4ff1-8d98-496f0deccc6d')\"\n",
              "              title=\"Convert this dataframe to an interactive table.\"\n",
              "              style=\"display:none;\">\n",
              "        \n",
              "  <svg xmlns=\"http://www.w3.org/2000/svg\" height=\"24px\"viewBox=\"0 0 24 24\"\n",
              "       width=\"24px\">\n",
              "    <path d=\"M0 0h24v24H0V0z\" fill=\"none\"/>\n",
              "    <path d=\"M18.56 5.44l.94 2.06.94-2.06 2.06-.94-2.06-.94-.94-2.06-.94 2.06-2.06.94zm-11 1L8.5 8.5l.94-2.06 2.06-.94-2.06-.94L8.5 2.5l-.94 2.06-2.06.94zm10 10l.94 2.06.94-2.06 2.06-.94-2.06-.94-.94-2.06-.94 2.06-2.06.94z\"/><path d=\"M17.41 7.96l-1.37-1.37c-.4-.4-.92-.59-1.43-.59-.52 0-1.04.2-1.43.59L10.3 9.45l-7.72 7.72c-.78.78-.78 2.05 0 2.83L4 21.41c.39.39.9.59 1.41.59.51 0 1.02-.2 1.41-.59l7.78-7.78 2.81-2.81c.8-.78.8-2.07 0-2.86zM5.41 20L4 18.59l7.72-7.72 1.47 1.35L5.41 20z\"/>\n",
              "  </svg>\n",
              "      </button>\n",
              "      \n",
              "  <style>\n",
              "    .colab-df-container {\n",
              "      display:flex;\n",
              "      flex-wrap:wrap;\n",
              "      gap: 12px;\n",
              "    }\n",
              "\n",
              "    .colab-df-convert {\n",
              "      background-color: #E8F0FE;\n",
              "      border: none;\n",
              "      border-radius: 50%;\n",
              "      cursor: pointer;\n",
              "      display: none;\n",
              "      fill: #1967D2;\n",
              "      height: 32px;\n",
              "      padding: 0 0 0 0;\n",
              "      width: 32px;\n",
              "    }\n",
              "\n",
              "    .colab-df-convert:hover {\n",
              "      background-color: #E2EBFA;\n",
              "      box-shadow: 0px 1px 2px rgba(60, 64, 67, 0.3), 0px 1px 3px 1px rgba(60, 64, 67, 0.15);\n",
              "      fill: #174EA6;\n",
              "    }\n",
              "\n",
              "    [theme=dark] .colab-df-convert {\n",
              "      background-color: #3B4455;\n",
              "      fill: #D2E3FC;\n",
              "    }\n",
              "\n",
              "    [theme=dark] .colab-df-convert:hover {\n",
              "      background-color: #434B5C;\n",
              "      box-shadow: 0px 1px 3px 1px rgba(0, 0, 0, 0.15);\n",
              "      filter: drop-shadow(0px 1px 2px rgba(0, 0, 0, 0.3));\n",
              "      fill: #FFFFFF;\n",
              "    }\n",
              "  </style>\n",
              "\n",
              "      <script>\n",
              "        const buttonEl =\n",
              "          document.querySelector('#df-842de4f2-7bef-4ff1-8d98-496f0deccc6d button.colab-df-convert');\n",
              "        buttonEl.style.display =\n",
              "          google.colab.kernel.accessAllowed ? 'block' : 'none';\n",
              "\n",
              "        async function convertToInteractive(key) {\n",
              "          const element = document.querySelector('#df-842de4f2-7bef-4ff1-8d98-496f0deccc6d');\n",
              "          const dataTable =\n",
              "            await google.colab.kernel.invokeFunction('convertToInteractive',\n",
              "                                                     [key], {});\n",
              "          if (!dataTable) return;\n",
              "\n",
              "          const docLinkHtml = 'Like what you see? Visit the ' +\n",
              "            '<a target=\"_blank\" href=https://colab.research.google.com/notebooks/data_table.ipynb>data table notebook</a>'\n",
              "            + ' to learn more about interactive tables.';\n",
              "          element.innerHTML = '';\n",
              "          dataTable['output_type'] = 'display_data';\n",
              "          await google.colab.output.renderOutput(dataTable, element);\n",
              "          const docLink = document.createElement('div');\n",
              "          docLink.innerHTML = docLinkHtml;\n",
              "          element.appendChild(docLink);\n",
              "        }\n",
              "      </script>\n",
              "    </div>\n",
              "  </div>\n",
              "  "
            ]
          },
          "metadata": {},
          "execution_count": 22
        }
      ],
      "source": [
        "mush = pd.read_csv('agaricus-lepiota.data')\n",
        "mush.head()"
      ]
    },
    {
      "cell_type": "code",
      "source": [
        "target = LabelEncoder().fit_transform(mush['p'])\n",
        "data = mush.drop(columns = ['p'])\n",
        "\n",
        "for col in data.columns:\n",
        "  data[col] = LabelEncoder().fit_transform(data[col])\n",
        "\n",
        "X, X_test, y, y_test = train_test_split(data, target, train_size = 0.5, random_state = 42)\n",
        "\n",
        "types = ['categorical'] * 22\n",
        "tree = DecisionTree(types)\n",
        "tree.fit(X.to_numpy(), y)\n",
        "preds_train = tree.predict(X.to_numpy())\n",
        "preds_test = tree.predict(X_test.to_numpy())"
      ],
      "metadata": {
        "id": "wPlI6NLd7C9L"
      },
      "execution_count": 25,
      "outputs": []
    },
    {
      "cell_type": "code",
      "source": [
        "print('Train', accuracy_score(preds_train, y))\n",
        "print('Test', accuracy_score(preds_test, y_test))"
      ],
      "metadata": {
        "colab": {
          "base_uri": "https://localhost:8080/"
        },
        "id": "ZG3nSvff7bcP",
        "outputId": "f0d4137a-4e0a-4abd-cf12-89e32d42b46f"
      },
      "execution_count": 27,
      "outputs": [
        {
          "output_type": "stream",
          "name": "stdout",
          "text": [
            "Train 1.0\n",
            "Test 1.0\n"
          ]
        }
      ]
    },
    {
      "cell_type": "markdown",
      "metadata": {
        "id": "GgKilFsoZb9c"
      },
      "source": [
        "## Часть 3: Бэггинг и случайный лес (4 балла)"
      ]
    },
    {
      "cell_type": "markdown",
      "metadata": {
        "id": "hx3eqWeGZb9c"
      },
      "source": [
        "В данной части мы будем работать [с задачей предсказания диабета у пациента](https://www.kaggle.com/uciml/pima-indians-diabetes-database/data). Посмотрим на работу бэггинга над решающими деревьями и случайного леса, сравним их работу."
      ]
    },
    {
      "cell_type": "code",
      "execution_count": 36,
      "metadata": {
        "id": "Kt9SXJBIZb9d"
      },
      "outputs": [],
      "source": [
        "from sklearn.ensemble import BaggingClassifier, RandomForestClassifier\n",
        "from sklearn.metrics import accuracy_score, precision_score, recall_score, roc_auc_score, f1_score\n",
        "from sklearn.model_selection import train_test_split\n",
        "from sklearn.tree import DecisionTreeClassifier\n",
        "from sklearn.model_selection import ParameterGrid"
      ]
    },
    {
      "cell_type": "code",
      "execution_count": 30,
      "metadata": {
        "scrolled": true,
        "id": "IBVAndiZZb9d",
        "colab": {
          "base_uri": "https://localhost:8080/",
          "height": 223
        },
        "outputId": "3920da41-44e2-42bf-da1a-df2b2879e901"
      },
      "outputs": [
        {
          "output_type": "stream",
          "name": "stdout",
          "text": [
            "Dataset shape: (768, 9)\n"
          ]
        },
        {
          "output_type": "execute_result",
          "data": {
            "text/plain": [
              "   Pregnancies  Glucose  BloodPressure  SkinThickness  Insulin   BMI  \\\n",
              "0            6      148             72             35        0  33.6   \n",
              "1            1       85             66             29        0  26.6   \n",
              "2            8      183             64              0        0  23.3   \n",
              "3            1       89             66             23       94  28.1   \n",
              "4            0      137             40             35      168  43.1   \n",
              "\n",
              "   DiabetesPedigreeFunction  Age  Outcome  \n",
              "0                     0.627   50        1  \n",
              "1                     0.351   31        0  \n",
              "2                     0.672   32        1  \n",
              "3                     0.167   21        0  \n",
              "4                     2.288   33        1  "
            ],
            "text/html": [
              "\n",
              "  <div id=\"df-17e23f1c-8876-4571-bab6-262189387c61\">\n",
              "    <div class=\"colab-df-container\">\n",
              "      <div>\n",
              "<style scoped>\n",
              "    .dataframe tbody tr th:only-of-type {\n",
              "        vertical-align: middle;\n",
              "    }\n",
              "\n",
              "    .dataframe tbody tr th {\n",
              "        vertical-align: top;\n",
              "    }\n",
              "\n",
              "    .dataframe thead th {\n",
              "        text-align: right;\n",
              "    }\n",
              "</style>\n",
              "<table border=\"1\" class=\"dataframe\">\n",
              "  <thead>\n",
              "    <tr style=\"text-align: right;\">\n",
              "      <th></th>\n",
              "      <th>Pregnancies</th>\n",
              "      <th>Glucose</th>\n",
              "      <th>BloodPressure</th>\n",
              "      <th>SkinThickness</th>\n",
              "      <th>Insulin</th>\n",
              "      <th>BMI</th>\n",
              "      <th>DiabetesPedigreeFunction</th>\n",
              "      <th>Age</th>\n",
              "      <th>Outcome</th>\n",
              "    </tr>\n",
              "  </thead>\n",
              "  <tbody>\n",
              "    <tr>\n",
              "      <th>0</th>\n",
              "      <td>6</td>\n",
              "      <td>148</td>\n",
              "      <td>72</td>\n",
              "      <td>35</td>\n",
              "      <td>0</td>\n",
              "      <td>33.6</td>\n",
              "      <td>0.627</td>\n",
              "      <td>50</td>\n",
              "      <td>1</td>\n",
              "    </tr>\n",
              "    <tr>\n",
              "      <th>1</th>\n",
              "      <td>1</td>\n",
              "      <td>85</td>\n",
              "      <td>66</td>\n",
              "      <td>29</td>\n",
              "      <td>0</td>\n",
              "      <td>26.6</td>\n",
              "      <td>0.351</td>\n",
              "      <td>31</td>\n",
              "      <td>0</td>\n",
              "    </tr>\n",
              "    <tr>\n",
              "      <th>2</th>\n",
              "      <td>8</td>\n",
              "      <td>183</td>\n",
              "      <td>64</td>\n",
              "      <td>0</td>\n",
              "      <td>0</td>\n",
              "      <td>23.3</td>\n",
              "      <td>0.672</td>\n",
              "      <td>32</td>\n",
              "      <td>1</td>\n",
              "    </tr>\n",
              "    <tr>\n",
              "      <th>3</th>\n",
              "      <td>1</td>\n",
              "      <td>89</td>\n",
              "      <td>66</td>\n",
              "      <td>23</td>\n",
              "      <td>94</td>\n",
              "      <td>28.1</td>\n",
              "      <td>0.167</td>\n",
              "      <td>21</td>\n",
              "      <td>0</td>\n",
              "    </tr>\n",
              "    <tr>\n",
              "      <th>4</th>\n",
              "      <td>0</td>\n",
              "      <td>137</td>\n",
              "      <td>40</td>\n",
              "      <td>35</td>\n",
              "      <td>168</td>\n",
              "      <td>43.1</td>\n",
              "      <td>2.288</td>\n",
              "      <td>33</td>\n",
              "      <td>1</td>\n",
              "    </tr>\n",
              "  </tbody>\n",
              "</table>\n",
              "</div>\n",
              "      <button class=\"colab-df-convert\" onclick=\"convertToInteractive('df-17e23f1c-8876-4571-bab6-262189387c61')\"\n",
              "              title=\"Convert this dataframe to an interactive table.\"\n",
              "              style=\"display:none;\">\n",
              "        \n",
              "  <svg xmlns=\"http://www.w3.org/2000/svg\" height=\"24px\"viewBox=\"0 0 24 24\"\n",
              "       width=\"24px\">\n",
              "    <path d=\"M0 0h24v24H0V0z\" fill=\"none\"/>\n",
              "    <path d=\"M18.56 5.44l.94 2.06.94-2.06 2.06-.94-2.06-.94-.94-2.06-.94 2.06-2.06.94zm-11 1L8.5 8.5l.94-2.06 2.06-.94-2.06-.94L8.5 2.5l-.94 2.06-2.06.94zm10 10l.94 2.06.94-2.06 2.06-.94-2.06-.94-.94-2.06-.94 2.06-2.06.94z\"/><path d=\"M17.41 7.96l-1.37-1.37c-.4-.4-.92-.59-1.43-.59-.52 0-1.04.2-1.43.59L10.3 9.45l-7.72 7.72c-.78.78-.78 2.05 0 2.83L4 21.41c.39.39.9.59 1.41.59.51 0 1.02-.2 1.41-.59l7.78-7.78 2.81-2.81c.8-.78.8-2.07 0-2.86zM5.41 20L4 18.59l7.72-7.72 1.47 1.35L5.41 20z\"/>\n",
              "  </svg>\n",
              "      </button>\n",
              "      \n",
              "  <style>\n",
              "    .colab-df-container {\n",
              "      display:flex;\n",
              "      flex-wrap:wrap;\n",
              "      gap: 12px;\n",
              "    }\n",
              "\n",
              "    .colab-df-convert {\n",
              "      background-color: #E8F0FE;\n",
              "      border: none;\n",
              "      border-radius: 50%;\n",
              "      cursor: pointer;\n",
              "      display: none;\n",
              "      fill: #1967D2;\n",
              "      height: 32px;\n",
              "      padding: 0 0 0 0;\n",
              "      width: 32px;\n",
              "    }\n",
              "\n",
              "    .colab-df-convert:hover {\n",
              "      background-color: #E2EBFA;\n",
              "      box-shadow: 0px 1px 2px rgba(60, 64, 67, 0.3), 0px 1px 3px 1px rgba(60, 64, 67, 0.15);\n",
              "      fill: #174EA6;\n",
              "    }\n",
              "\n",
              "    [theme=dark] .colab-df-convert {\n",
              "      background-color: #3B4455;\n",
              "      fill: #D2E3FC;\n",
              "    }\n",
              "\n",
              "    [theme=dark] .colab-df-convert:hover {\n",
              "      background-color: #434B5C;\n",
              "      box-shadow: 0px 1px 3px 1px rgba(0, 0, 0, 0.15);\n",
              "      filter: drop-shadow(0px 1px 2px rgba(0, 0, 0, 0.3));\n",
              "      fill: #FFFFFF;\n",
              "    }\n",
              "  </style>\n",
              "\n",
              "      <script>\n",
              "        const buttonEl =\n",
              "          document.querySelector('#df-17e23f1c-8876-4571-bab6-262189387c61 button.colab-df-convert');\n",
              "        buttonEl.style.display =\n",
              "          google.colab.kernel.accessAllowed ? 'block' : 'none';\n",
              "\n",
              "        async function convertToInteractive(key) {\n",
              "          const element = document.querySelector('#df-17e23f1c-8876-4571-bab6-262189387c61');\n",
              "          const dataTable =\n",
              "            await google.colab.kernel.invokeFunction('convertToInteractive',\n",
              "                                                     [key], {});\n",
              "          if (!dataTable) return;\n",
              "\n",
              "          const docLinkHtml = 'Like what you see? Visit the ' +\n",
              "            '<a target=\"_blank\" href=https://colab.research.google.com/notebooks/data_table.ipynb>data table notebook</a>'\n",
              "            + ' to learn more about interactive tables.';\n",
              "          element.innerHTML = '';\n",
              "          dataTable['output_type'] = 'display_data';\n",
              "          await google.colab.output.renderOutput(dataTable, element);\n",
              "          const docLink = document.createElement('div');\n",
              "          docLink.innerHTML = docLinkHtml;\n",
              "          element.appendChild(docLink);\n",
              "        }\n",
              "      </script>\n",
              "    </div>\n",
              "  </div>\n",
              "  "
            ]
          },
          "metadata": {},
          "execution_count": 30
        }
      ],
      "source": [
        "data = pd.read_csv('diabetes.csv')\n",
        "print(f\"Dataset shape: {data.shape}\")\n",
        "data.head()"
      ]
    },
    {
      "cell_type": "markdown",
      "metadata": {
        "id": "xmQJ_qbkZb9d"
      },
      "source": [
        "Посмотрим на распределение целевой переменной"
      ]
    },
    {
      "cell_type": "code",
      "execution_count": 31,
      "metadata": {
        "id": "F27NEN9hZb9d",
        "colab": {
          "base_uri": "https://localhost:8080/",
          "height": 430
        },
        "outputId": "22f68893-dd0e-4038-cb9b-0859ef2c2408"
      },
      "outputs": [
        {
          "output_type": "display_data",
          "data": {
            "text/plain": [
              "<Figure size 640x480 with 1 Axes>"
            ],
            "image/png": "[encoded data removed]"
          },
          "metadata": {}
        }
      ],
      "source": [
        "data['Outcome'].hist()\n",
        "plt.show()"
      ]
    },
    {
      "cell_type": "markdown",
      "metadata": {
        "id": "9-8qDX_fZb9d"
      },
      "source": [
        "**Задание 3.1 (0.5 балла)** Разделите данные на признаки и целевую переменную. Разбейте датасет на обучающую и тестовую части в отношении 7:3. Затем разделите обучающую выборку на обучающую-обучающую и обучающую-валидационную в соотношении 7:3 (то есть в итоге должно получиться три выборки: обучающая-обучающая (0.49 от исходного датасета), обучающая-валидационная (0.21 от исходного датасета) и тестовая (0.3 от исходного датасета)."
      ]
    },
    {
      "cell_type": "code",
      "execution_count": 47,
      "metadata": {
        "id": "W4-8Lk0zZb9e"
      },
      "outputs": [],
      "source": [
        "y = data['Outcome']\n",
        "X = data.drop(columns = ['Outcome'])\n",
        "X_train, X_test, y_train, y_test = train_test_split(X, y, train_size = 0.7, random_state = 42)\n",
        "X_training, X_valid, y_training, y_valid = train_test_split(X_train, y_train, train_size = 0.7, random_state = 42)"
      ]
    },
    {
      "cell_type": "markdown",
      "metadata": {
        "id": "ACkvRhFSZb9e"
      },
      "source": [
        "**Задание 3.2 (1 балл)** На обучающей-валидационной выборке подберите оптимальные значения гиперпараметров `max_depth` и `min_samples_leaf` для `DecisionTreeClassifier`. Для этого:\n",
        "1. Создайте списки с возможными значениями для перебора.\n",
        "2. Для каждой пары значений обучите дерево на обучающей-обучающей выборке и определите качество на обучающей-валидационной выборке. В качестве критерия будем использовать `f1-меру`.\n",
        "3. Выберите ту пару значений, которая даёт наилучшее качество на обучающей-валидационной выборке. \n",
        "\n",
        "\n",
        "Обучите решающее дерево с подобранными гиперпараметрами на **полной обучающей** выборке. Оцените качество классификации на тестовой выборке по метрикам `accuracy`, `precision` и `recall`, `auc_roc`."
      ]
    },
    {
      "cell_type": "code",
      "execution_count": 48,
      "metadata": {
        "id": "HoYix2JpZb9e"
      },
      "outputs": [],
      "source": [
        "param_grid = list(ParameterGrid({'max_depth': list(range(1, 20)), 'min_samples_leaf': list(range(1, 20))}))\n",
        "best_score = 0\n",
        "best_parameters = None\n",
        "\n",
        "for parameters in param_grid:\n",
        "  tree = DecisionTreeClassifier(max_depth = parameters['max_depth'], min_samples_leaf = parameters['min_samples_leaf'])\n",
        "  tree.fit(X_training, y_training)\n",
        "  preds = tree.predict(X_valid)\n",
        "  score = f1_score(preds, y_valid)\n",
        "  if score > best_score:\n",
        "    best_parameters = parameters\n",
        "    best_score = score"
      ]
    },
    {
      "cell_type": "code",
      "source": [
        "print('f1_score', round(best_score, 3))\n",
        "print('Best parameters:', best_parameters)"
      ],
      "metadata": {
        "colab": {
          "base_uri": "https://localhost:8080/"
        },
        "id": "VcPgxm_bCqWi",
        "outputId": "83c559bf-8d9c-4e70-e15e-2650fb455ec8"
      },
      "execution_count": 49,
      "outputs": [
        {
          "output_type": "stream",
          "name": "stdout",
          "text": [
            "f1_score 0.714\n",
            "Best parameters: {'max_depth': 7, 'min_samples_leaf': 7}\n"
          ]
        }
      ]
    },
    {
      "cell_type": "code",
      "source": [
        "tree_best = DecisionTreeClassifier(max_depth = best_parameters['max_depth'], min_samples_leaf = best_parameters['min_samples_leaf'])\n",
        "tree_best.fit(X_train, y_train)\n",
        "preds = tree_best.predict(X_test)"
      ],
      "metadata": {
        "id": "kUbzFXz4CskS"
      },
      "execution_count": 50,
      "outputs": []
    },
    {
      "cell_type": "code",
      "source": [
        "print('f1_score', round(f1_score(preds, y_test), 3))\n",
        "print('accuracy', round(accuracy_score(preds, y_test), 3))\n",
        "print('precision', round(precision_score(preds, y_test), 3))\n",
        "print('recall', round(recall_score(preds, y_test), 3))\n",
        "print('ROC-AUC', round(roc_auc_score(preds, y_test), 3))"
      ],
      "metadata": {
        "colab": {
          "base_uri": "https://localhost:8080/"
        },
        "id": "IqbP3eU8Cu1w",
        "outputId": "9da68c38-a8d7-4467-dba8-9f8416e18e66"
      },
      "execution_count": 51,
      "outputs": [
        {
          "output_type": "stream",
          "name": "stdout",
          "text": [
            "f1_score 0.585\n",
            "accuracy 0.693\n",
            "precision 0.625\n",
            "recall 0.549\n",
            "ROC-AUC 0.668\n"
          ]
        }
      ]
    },
    {
      "cell_type": "markdown",
      "metadata": {
        "id": "kFRnMFBUZb9q"
      },
      "source": [
        "**Задание 3.3 (0.5 балла)** Обучите [`BaggingClassifier`](https://scikit-learn.org/stable/modules/generated/sklearn.ensemble.BaggingClassifier.html) на 50 деревьях на **полной обучающей** выборке. Оцените качество классификации на тестовой выборке по тем же метрикам."
      ]
    },
    {
      "cell_type": "code",
      "execution_count": 53,
      "metadata": {
        "id": "piSpV4eyZb9q"
      },
      "outputs": [],
      "source": [
        "bg = BaggingClassifier(n_estimators = 50)\n",
        "bg.fit(X_train, y_train)\n",
        "preds = bg.predict(X_test)"
      ]
    },
    {
      "cell_type": "code",
      "source": [
        "print('f1_score', round(f1_score(preds, y_test), 3))\n",
        "print('accuracy', round(accuracy_score(preds, y_test), 3))\n",
        "print('precision', round(precision_score(preds, y_test), 3))\n",
        "print('recall', round(recall_score(preds, y_test), 3))\n",
        "print('ROC-AUC', round(roc_auc_score(preds, y_test), 3))"
      ],
      "metadata": {
        "colab": {
          "base_uri": "https://localhost:8080/"
        },
        "id": "in9KN2bKDAur",
        "outputId": "74347ce6-48a1-4a7f-ca24-0dfba66b62ed"
      },
      "execution_count": 54,
      "outputs": [
        {
          "output_type": "stream",
          "name": "stdout",
          "text": [
            "f1_score 0.643\n",
            "accuracy 0.74\n",
            "precision 0.675\n",
            "recall 0.614\n",
            "ROC-AUC 0.716\n"
          ]
        }
      ]
    },
    {
      "cell_type": "markdown",
      "source": [],
      "metadata": {
        "id": "1BQedjNpH8Wz"
      }
    },
    {
      "cell_type": "markdown",
      "metadata": {
        "id": "EpQAEWPaZb9q"
      },
      "source": [
        "**Задание 3.4 (1 балл)** Выполните кросс-валидацию на полной обучающей выборке и подберите оптимальные значения гиперпараметров `max_depth` и `min_samples_split` для `Random Forest` с 50 деревьями. Для этого:\n",
        "\n",
        "1. Создайте списки с возможными значениями для перебора.\n",
        "2. Для каждой пары значений проведите кросс-валидацию на полной обучающей выборке. Количество разбиений выберите на ваш вкус. В качестве критерия будем использовать `f1-меру`. Усредните значение критерия по всем прогонам кросс-валидации. \n",
        "3. Выберите ту пару значений, которая даёт наилучшее среднее качество. \n",
        "\n",
        "Обучите случайный лес с подобранными гиперпараметрами на **полной обучающей** выборке. Оцените качество классификации по тем же метрикам. Какая из трёх построенных моделей показала себя лучше?"
      ]
    },
    {
      "cell_type": "code",
      "source": [
        "from sklearn.model_selection import GridSearchCV\n",
        "import warnings\n",
        "warnings.filterwarnings(\"ignore\")"
      ],
      "metadata": {
        "id": "p_OmCXGgDSn0"
      },
      "execution_count": 65,
      "outputs": []
    },
    {
      "cell_type": "code",
      "execution_count": 66,
      "metadata": {
        "id": "NbauPWwBZb9q",
        "colab": {
          "base_uri": "https://localhost:8080/"
        },
        "outputId": "b9fd09da-c69d-41a5-9025-8b3a107b8015"
      },
      "outputs": [
        {
          "output_type": "stream",
          "name": "stdout",
          "text": [
            "Best f1_score 0.6759854524560408\n",
            "Best parameters: {'max_depth': 11, 'min_samples_split': 8}\n"
          ]
        }
      ],
      "source": [
        "params = {'max_depth': list(range(1, 20)), 'min_samples_split': list(range(1, 20))}\n",
        "rf = RandomForestClassifier(n_estimators=50, random_state = 42)\n",
        "clf = GridSearchCV(rf,\n",
        "                   params,\n",
        "                   scoring = 'f1',\n",
        "                   cv = 3)\n",
        "\n",
        "clf.fit(X_train, y_train)\n",
        "\n",
        "print('Best f1_score', clf.best_score_)\n",
        "print('Best parameters:', clf.best_params_)"
      ]
    },
    {
      "cell_type": "code",
      "source": [
        "rf_best = RandomForestClassifier(n_estimators=50,\n",
        "                                 max_depth = clf.best_params_['max_depth'],\n",
        "                                 min_samples_split = clf.best_params_['min_samples_split'],\n",
        "                                 random_state = 42)\n",
        "rf_best.fit(X_train, y_train)\n",
        "preds = rf_best.predict(X_test)"
      ],
      "metadata": {
        "id": "M27U6nadD0R_"
      },
      "execution_count": 59,
      "outputs": []
    },
    {
      "cell_type": "code",
      "source": [
        "print('f1_score', round(f1_score(preds, y_test), 3))\n",
        "print('accuracy', round(accuracy_score(preds, y_test), 3))\n",
        "print('precision', round(precision_score(preds, y_test), 3))\n",
        "print('recall', round(recall_score(preds, y_test), 3))\n",
        "print('ROC-AUC', round(roc_auc_score(preds, y_test), 3))"
      ],
      "metadata": {
        "colab": {
          "base_uri": "https://localhost:8080/"
        },
        "id": "mcCD-XR0D11A",
        "outputId": "4cd4da0b-7f0c-4e41-f225-e0c4cf877ac2"
      },
      "execution_count": 60,
      "outputs": [
        {
          "output_type": "stream",
          "name": "stdout",
          "text": [
            "f1_score 0.616\n",
            "accuracy 0.736\n",
            "precision 0.612\n",
            "recall 0.62\n",
            "ROC-AUC 0.708\n"
          ]
        }
      ]
    },
    {
      "cell_type": "markdown",
      "source": [
        "**Ответ:** Лучшей моделью оказался случайный лес, обученный на кросс-валидации, и это логично, так как мы в итоге выбрали лучшие параметры, на которых показатели, соответственно, лучшие"
      ],
      "metadata": {
        "id": "x1ambgL6I-lf"
      }
    },
    {
      "cell_type": "markdown",
      "source": [
        "**Задание 3.5 (0.5 балла)** Постройте график зависимости AUC ROC на тестовой выборке от числа деревьев (`n_estimators`) для случайного леса, обучаемого на **полной обучающей** выборке. Какие выводы можно сделать?"
      ],
      "metadata": {
        "id": "W00AGL5VJkRG"
      }
    },
    {
      "cell_type": "code",
      "execution_count": 85,
      "metadata": {
        "id": "jZzxLhgoZb9r"
      },
      "outputs": [],
      "source": [
        "vals = np.array([])\n",
        "\n",
        "for n in range(1, 201):\n",
        "    rfc = RandomForestClassifier(n_estimators=n, max_depth = 11, min_samples_split = 8)\n",
        "    rfc.fit(X_train, y_train)\n",
        "    preds = rfc.predict(X_test)\n",
        "    vals = np.append(vals, roc_auc_score(preds, y_test))"
      ]
    },
    {
      "cell_type": "code",
      "source": [
        "plt.plot(range(1, 201), vals);\n",
        "plt.scatter(np.argmax(vals), max(vals), color='r');"
      ],
      "metadata": {
        "colab": {
          "base_uri": "https://localhost:8080/",
          "height": 430
        },
        "id": "Qm9D0euCL6Qe",
        "outputId": "5867f68c-9baa-4fce-c4a8-5f3670a52591"
      },
      "execution_count": 89,
      "outputs": [
        {
          "output_type": "display_data",
          "data": {
            "text/plain": [
              "<Figure size 640x480 with 1 Axes>"
            ],
            "image/png": "[encoded data removed]"
          },
          "metadata": {}
        }
      ]
    },
    {
      "cell_type": "markdown",
      "source": [
        "**Ответ:** При маленьком количестве деревьев качество плохое, но начиная где-то с 10-15 деревьев ROC-AUC колеблется в окрестности 0.725 для любого количества деревьев, поэтому нет смысла обучать случайный лес на огромном количестве деревьев, потому что значительного повышения качества добиться вряд ли получится"
      ],
      "metadata": {
        "id": "nf8CXBTEMezA"
      }
    },
    {
      "cell_type": "markdown",
      "metadata": {
        "id": "Tj6I4rffZb9r"
      },
      "source": [
        "**Задание 3.6 (0.5 балла)** Для лучшей модели случайного леса из **Задания 3.4** посчитайте важность признаков и постройте bar plot. Какой признак оказался самым важным для определения диабета?"
      ]
    },
    {
      "cell_type": "code",
      "source": [
        "import seaborn as sns"
      ],
      "metadata": {
        "id": "wI1lx5smNoM4"
      },
      "execution_count": 91,
      "outputs": []
    },
    {
      "cell_type": "code",
      "execution_count": 96,
      "metadata": {
        "id": "CiPHA5t3Zb9r",
        "colab": {
          "base_uri": "https://localhost:8080/",
          "height": 522
        },
        "outputId": "cf7f960e-4bbf-401d-f89a-e053bb8933ea"
      },
      "outputs": [
        {
          "output_type": "display_data",
          "data": {
            "text/plain": [
              "<Figure size 1200x600 with 1 Axes>"
            ],
            "image/png": "[encoded data removed]"
          },
          "metadata": {}
        }
      ],
      "source": [
        "fig = plt.figure(figsize=(12, 6))\n",
        "sns.barplot(x = rf_best.feature_names_in_, y = rf_best.feature_importances_)\n",
        "plt.show()"
      ]
    },
    {
      "cell_type": "markdown",
      "source": [
        "**Ответ:** Главным признаком оказалась глюкоза, что соответствует реальности."
      ],
      "metadata": {
        "id": "ckTy0kgTN-AU"
      }
    }
  ],
  "metadata": {
    "kernelspec": {
      "display_name": "Python 3",
      "language": "python",
      "name": "python3"
    },
    "language_info": {
      "codemirror_mode": {
        "name": "ipython",
        "version": 3
      },
      "file_extension": ".py",
      "mimetype": "text/x-python",
      "name": "python",
      "nbconvert_exporter": "python",
      "pygments_lexer": "ipython3",
      "version": "3.8.5"
    },
    "colab": {
      "provenance": []
    }
  },
  "nbformat": 4,
  "nbformat_minor": 0
}